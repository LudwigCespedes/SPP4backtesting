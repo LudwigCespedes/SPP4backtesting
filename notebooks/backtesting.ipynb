{
 "cells": [
  {
   "cell_type": "code",
   "execution_count": 2,
   "id": "c3ee0b49",
   "metadata": {},
   "outputs": [],
   "source": [
    "from backtesting import Backtest, Strategy\n",
    "from backtesting.lib import crossover\n",
    "import backtesting\n",
    "backtesting.set_bokeh_output(notebook=False)\n",
    "import warnings\n",
    "warnings.filterwarnings(\"ignore\")\n",
    "warnings.warn('Jupyter Notebook detected.')\n",
    "import yfinance as yf\n",
    "import datetime as dt\n",
    "import talib\n",
    "\n"
   ]
  },
  {
   "cell_type": "code",
   "execution_count": 9,
   "id": "f77070ad",
   "metadata": {},
   "outputs": [
    {
     "data": {
      "application/vnd.microsoft.datawrangler.viewer.v0+json": {
       "columns": [
        {
         "name": "Datetime",
         "rawType": "datetime64[ns, UTC]",
         "type": "unknown"
        },
        {
         "name": "Open",
         "rawType": "float64",
         "type": "float"
        },
        {
         "name": "High",
         "rawType": "float64",
         "type": "float"
        },
        {
         "name": "Low",
         "rawType": "float64",
         "type": "float"
        },
        {
         "name": "Close",
         "rawType": "float64",
         "type": "float"
        }
       ],
       "ref": "0f898a34-db5f-415d-bc4c-f7b982a0c47d",
       "rows": [
        [
         "2025-06-01 00:00:00+00:00",
         "104674.0",
         "104674.0",
         "104609.625",
         "104609.625"
        ],
        [
         "2025-06-01 00:05:00+00:00",
         "104598.09375",
         "104602.0234375",
         "104590.8671875",
         "104590.8671875"
        ],
        [
         "2025-06-01 00:10:00+00:00",
         "104568.5",
         "104570.640625",
         "104521.4375",
         "104521.4375"
        ],
        [
         "2025-06-01 00:15:00+00:00",
         "104525.1875",
         "104525.1875",
         "104478.3046875",
         "104478.3046875"
        ],
        [
         "2025-06-01 00:20:00+00:00",
         "104514.3125",
         "104514.3125",
         "104449.71875",
         "104449.71875"
        ],
        [
         "2025-06-01 00:25:00+00:00",
         "104459.5078125",
         "104470.21875",
         "104438.1640625",
         "104450.7734375"
        ],
        [
         "2025-06-01 00:30:00+00:00",
         "104402.578125",
         "104417.1953125",
         "104402.578125",
         "104417.1953125"
        ],
        [
         "2025-06-01 00:35:00+00:00",
         "104411.671875",
         "104479.3203125",
         "104411.671875",
         "104479.3203125"
        ],
        [
         "2025-06-01 00:40:00+00:00",
         "104488.0",
         "104497.21875",
         "104488.0",
         "104497.21875"
        ],
        [
         "2025-06-01 00:45:00+00:00",
         "104503.625",
         "104504.359375",
         "104481.1953125",
         "104481.1953125"
        ],
        [
         "2025-06-01 00:50:00+00:00",
         "104481.8203125",
         "104485.3828125",
         "104481.8203125",
         "104485.3828125"
        ],
        [
         "2025-06-01 00:55:00+00:00",
         "104466.4296875",
         "104466.4296875",
         "104459.8203125",
         "104459.8203125"
        ],
        [
         "2025-06-01 01:00:00+00:00",
         "104475.921875",
         "104475.921875",
         "104460.921875",
         "104473.1875"
        ],
        [
         "2025-06-01 01:05:00+00:00",
         "104450.6328125",
         "104450.6328125",
         "104414.0",
         "104414.0"
        ],
        [
         "2025-06-01 01:10:00+00:00",
         "104402.5390625",
         "104451.421875",
         "104402.5390625",
         "104449.9765625"
        ],
        [
         "2025-06-01 01:15:00+00:00",
         "104482.2109375",
         "104529.5390625",
         "104426.5",
         "104426.5"
        ],
        [
         "2025-06-01 01:20:00+00:00",
         "104402.9609375",
         "104402.9609375",
         "104379.6328125",
         "104385.7734375"
        ],
        [
         "2025-06-01 01:25:00+00:00",
         "104378.265625",
         "104460.09375",
         "104378.265625",
         "104460.09375"
        ],
        [
         "2025-06-01 01:30:00+00:00",
         "104414.7265625",
         "104435.6875",
         "104385.375",
         "104385.375"
        ],
        [
         "2025-06-01 01:35:00+00:00",
         "104320.0546875",
         "104339.5625",
         "104271.734375",
         "104271.734375"
        ],
        [
         "2025-06-01 01:40:00+00:00",
         "104239.515625",
         "104270.8203125",
         "104229.2109375",
         "104270.8203125"
        ],
        [
         "2025-06-01 01:45:00+00:00",
         "104296.4375",
         "104314.71875",
         "104296.4375",
         "104314.71875"
        ],
        [
         "2025-06-01 01:50:00+00:00",
         "104316.1484375",
         "104316.1484375",
         "104151.484375",
         "104151.484375"
        ],
        [
         "2025-06-01 01:55:00+00:00",
         "104076.3984375",
         "104115.1796875",
         "104076.3984375",
         "104115.1796875"
        ],
        [
         "2025-06-01 02:00:00+00:00",
         "104159.0390625",
         "104162.1875",
         "104149.2109375",
         "104149.2109375"
        ],
        [
         "2025-06-01 02:05:00+00:00",
         "104111.1796875",
         "104111.2578125",
         "104072.6953125",
         "104072.6953125"
        ],
        [
         "2025-06-01 02:10:00+00:00",
         "103998.1875",
         "104072.4375",
         "103998.1875",
         "104037.8828125"
        ],
        [
         "2025-06-01 02:15:00+00:00",
         "103992.984375",
         "104109.5703125",
         "103992.984375",
         "104109.5703125"
        ],
        [
         "2025-06-01 02:20:00+00:00",
         "104121.8359375",
         "104178.8359375",
         "104121.8359375",
         "104151.1171875"
        ],
        [
         "2025-06-01 02:25:00+00:00",
         "104155.140625",
         "104232.0859375",
         "104155.140625",
         "104232.0859375"
        ],
        [
         "2025-06-01 02:30:00+00:00",
         "104217.46875",
         "104254.3046875",
         "104217.46875",
         "104254.3046875"
        ],
        [
         "2025-06-01 02:35:00+00:00",
         "104264.46875",
         "104283.1796875",
         "104264.46875",
         "104283.1796875"
        ],
        [
         "2025-06-01 02:40:00+00:00",
         "104283.4921875",
         "104297.75",
         "104283.4921875",
         "104297.75"
        ],
        [
         "2025-06-01 02:45:00+00:00",
         "104288.359375",
         "104297.09375",
         "104210.9453125",
         "104297.09375"
        ],
        [
         "2025-06-01 02:50:00+00:00",
         "104330.4921875",
         "104330.4921875",
         "104294.359375",
         "104297.7890625"
        ],
        [
         "2025-06-01 02:55:00+00:00",
         "104299.5703125",
         "104299.5703125",
         "104264.4921875",
         "104264.4921875"
        ],
        [
         "2025-06-01 03:00:00+00:00",
         "104240.390625",
         "104260.359375",
         "104214.71875",
         "104214.71875"
        ],
        [
         "2025-06-01 03:05:00+00:00",
         "104165.875",
         "104186.1796875",
         "104159.75",
         "104159.75"
        ],
        [
         "2025-06-01 03:10:00+00:00",
         "104117.609375",
         "104136.96875",
         "104116.0859375",
         "104136.96875"
        ],
        [
         "2025-06-01 03:15:00+00:00",
         "104113.9296875",
         "104155.4921875",
         "104112.171875",
         "104112.171875"
        ],
        [
         "2025-06-01 03:20:00+00:00",
         "104108.9609375",
         "104128.765625",
         "104094.265625",
         "104094.265625"
        ],
        [
         "2025-06-01 03:25:00+00:00",
         "104043.8125",
         "104136.8125",
         "104043.8125",
         "104136.8125"
        ],
        [
         "2025-06-01 03:30:00+00:00",
         "104165.40625",
         "104232.5078125",
         "104165.40625",
         "104232.5078125"
        ],
        [
         "2025-06-01 03:35:00+00:00",
         "104239.0546875",
         "104253.0546875",
         "104236.5859375",
         "104253.0546875"
        ],
        [
         "2025-06-01 03:40:00+00:00",
         "104270.953125",
         "104322.2265625",
         "104270.953125",
         "104319.203125"
        ],
        [
         "2025-06-01 03:45:00+00:00",
         "104338.03125",
         "104482.0859375",
         "104338.03125",
         "104482.0859375"
        ],
        [
         "2025-06-01 03:50:00+00:00",
         "104475.140625",
         "104476.28125",
         "104469.3984375",
         "104476.28125"
        ],
        [
         "2025-06-01 03:55:00+00:00",
         "104473.609375",
         "104473.609375",
         "104446.9296875",
         "104448.6640625"
        ],
        [
         "2025-06-01 04:00:00+00:00",
         "104442.609375",
         "104488.4453125",
         "104440.8203125",
         "104488.4453125"
        ],
        [
         "2025-06-01 04:05:00+00:00",
         "104483.5234375",
         "104483.5234375",
         "104436.96875",
         "104436.96875"
        ]
       ],
       "shape": {
        "columns": 4,
        "rows": 8639
       }
      },
      "text/html": [
       "<div>\n",
       "<style scoped>\n",
       "    .dataframe tbody tr th:only-of-type {\n",
       "        vertical-align: middle;\n",
       "    }\n",
       "\n",
       "    .dataframe tbody tr th {\n",
       "        vertical-align: top;\n",
       "    }\n",
       "\n",
       "    .dataframe thead th {\n",
       "        text-align: right;\n",
       "    }\n",
       "</style>\n",
       "<table border=\"1\" class=\"dataframe\">\n",
       "  <thead>\n",
       "    <tr style=\"text-align: right;\">\n",
       "      <th></th>\n",
       "      <th>Open</th>\n",
       "      <th>High</th>\n",
       "      <th>Low</th>\n",
       "      <th>Close</th>\n",
       "    </tr>\n",
       "    <tr>\n",
       "      <th>Datetime</th>\n",
       "      <th></th>\n",
       "      <th></th>\n",
       "      <th></th>\n",
       "      <th></th>\n",
       "    </tr>\n",
       "  </thead>\n",
       "  <tbody>\n",
       "    <tr>\n",
       "      <th>2025-06-01 00:00:00+00:00</th>\n",
       "      <td>104674.000000</td>\n",
       "      <td>104674.000000</td>\n",
       "      <td>104609.625000</td>\n",
       "      <td>104609.625000</td>\n",
       "    </tr>\n",
       "    <tr>\n",
       "      <th>2025-06-01 00:05:00+00:00</th>\n",
       "      <td>104598.093750</td>\n",
       "      <td>104602.023438</td>\n",
       "      <td>104590.867188</td>\n",
       "      <td>104590.867188</td>\n",
       "    </tr>\n",
       "    <tr>\n",
       "      <th>2025-06-01 00:10:00+00:00</th>\n",
       "      <td>104568.500000</td>\n",
       "      <td>104570.640625</td>\n",
       "      <td>104521.437500</td>\n",
       "      <td>104521.437500</td>\n",
       "    </tr>\n",
       "    <tr>\n",
       "      <th>2025-06-01 00:15:00+00:00</th>\n",
       "      <td>104525.187500</td>\n",
       "      <td>104525.187500</td>\n",
       "      <td>104478.304688</td>\n",
       "      <td>104478.304688</td>\n",
       "    </tr>\n",
       "    <tr>\n",
       "      <th>2025-06-01 00:20:00+00:00</th>\n",
       "      <td>104514.312500</td>\n",
       "      <td>104514.312500</td>\n",
       "      <td>104449.718750</td>\n",
       "      <td>104449.718750</td>\n",
       "    </tr>\n",
       "    <tr>\n",
       "      <th>...</th>\n",
       "      <td>...</td>\n",
       "      <td>...</td>\n",
       "      <td>...</td>\n",
       "      <td>...</td>\n",
       "    </tr>\n",
       "    <tr>\n",
       "      <th>2025-06-30 23:35:00+00:00</th>\n",
       "      <td>107158.265625</td>\n",
       "      <td>107158.265625</td>\n",
       "      <td>107134.867188</td>\n",
       "      <td>107134.867188</td>\n",
       "    </tr>\n",
       "    <tr>\n",
       "      <th>2025-06-30 23:40:00+00:00</th>\n",
       "      <td>107146.835938</td>\n",
       "      <td>107151.789062</td>\n",
       "      <td>107104.257812</td>\n",
       "      <td>107151.484375</td>\n",
       "    </tr>\n",
       "    <tr>\n",
       "      <th>2025-06-30 23:45:00+00:00</th>\n",
       "      <td>107158.312500</td>\n",
       "      <td>107164.351562</td>\n",
       "      <td>107124.992188</td>\n",
       "      <td>107124.992188</td>\n",
       "    </tr>\n",
       "    <tr>\n",
       "      <th>2025-06-30 23:50:00+00:00</th>\n",
       "      <td>107179.023438</td>\n",
       "      <td>107179.023438</td>\n",
       "      <td>107164.445312</td>\n",
       "      <td>107166.765625</td>\n",
       "    </tr>\n",
       "    <tr>\n",
       "      <th>2025-06-30 23:55:00+00:00</th>\n",
       "      <td>107137.515625</td>\n",
       "      <td>107137.515625</td>\n",
       "      <td>107110.718750</td>\n",
       "      <td>107110.718750</td>\n",
       "    </tr>\n",
       "  </tbody>\n",
       "</table>\n",
       "<p>8639 rows × 4 columns</p>\n",
       "</div>"
      ],
      "text/plain": [
       "                                    Open           High            Low  \\\n",
       "Datetime                                                                 \n",
       "2025-06-01 00:00:00+00:00  104674.000000  104674.000000  104609.625000   \n",
       "2025-06-01 00:05:00+00:00  104598.093750  104602.023438  104590.867188   \n",
       "2025-06-01 00:10:00+00:00  104568.500000  104570.640625  104521.437500   \n",
       "2025-06-01 00:15:00+00:00  104525.187500  104525.187500  104478.304688   \n",
       "2025-06-01 00:20:00+00:00  104514.312500  104514.312500  104449.718750   \n",
       "...                                  ...            ...            ...   \n",
       "2025-06-30 23:35:00+00:00  107158.265625  107158.265625  107134.867188   \n",
       "2025-06-30 23:40:00+00:00  107146.835938  107151.789062  107104.257812   \n",
       "2025-06-30 23:45:00+00:00  107158.312500  107164.351562  107124.992188   \n",
       "2025-06-30 23:50:00+00:00  107179.023438  107179.023438  107164.445312   \n",
       "2025-06-30 23:55:00+00:00  107137.515625  107137.515625  107110.718750   \n",
       "\n",
       "                                   Close  \n",
       "Datetime                                  \n",
       "2025-06-01 00:00:00+00:00  104609.625000  \n",
       "2025-06-01 00:05:00+00:00  104590.867188  \n",
       "2025-06-01 00:10:00+00:00  104521.437500  \n",
       "2025-06-01 00:15:00+00:00  104478.304688  \n",
       "2025-06-01 00:20:00+00:00  104449.718750  \n",
       "...                                  ...  \n",
       "2025-06-30 23:35:00+00:00  107134.867188  \n",
       "2025-06-30 23:40:00+00:00  107151.484375  \n",
       "2025-06-30 23:45:00+00:00  107124.992188  \n",
       "2025-06-30 23:50:00+00:00  107166.765625  \n",
       "2025-06-30 23:55:00+00:00  107110.718750  \n",
       "\n",
       "[8639 rows x 4 columns]"
      ]
     },
     "execution_count": 9,
     "metadata": {},
     "output_type": "execute_result"
    }
   ],
   "source": [
    "btc_data = yf.Ticker('BTC-USD')\n",
    "btc = btc_data.history(start=dt.datetime(2025,6,1), end =dt.datetime(2025,7,1),interval= \"5m\" ).iloc[:, :4]#*10**-6\n",
    "btc"
   ]
  },
  {
   "cell_type": "code",
   "execution_count": 20,
   "id": "3eb7236e",
   "metadata": {},
   "outputs": [
    {
     "name": "stderr",
     "output_type": "stream",
     "text": [
      "C:\\Users\\ludwi\\AppData\\Local\\Temp\\ipykernel_14468\\992190952.py:13: UserWarning: Some prices are larger than initial cash value. Note that fractional trading is not supported. If you want to trade Bitcoin, increase initial cash, or trade μBTC or satoshis instead (GH-134).\n",
      "  bt = Backtest(spy, Rsi0scillator, cash=10, commission=.02)\n",
      "d:\\Proyectos\\SPP4backtesting\\env\\Lib\\site-packages\\backtesting\\backtesting.py:954: UserWarning: time=299: Broker canceled the relative-sized order due to insufficient margin.\n",
      "  warnings.warn(\n",
      "d:\\Proyectos\\SPP4backtesting\\env\\Lib\\site-packages\\backtesting\\backtesting.py:954: UserWarning: time=876: Broker canceled the relative-sized order due to insufficient margin.\n",
      "  warnings.warn(\n",
      "d:\\Proyectos\\SPP4backtesting\\env\\Lib\\site-packages\\backtesting\\backtesting.py:954: UserWarning: time=1201: Broker canceled the relative-sized order due to insufficient margin.\n",
      "  warnings.warn(\n",
      "d:\\Proyectos\\SPP4backtesting\\env\\Lib\\site-packages\\backtesting\\backtesting.py:954: UserWarning: time=1394: Broker canceled the relative-sized order due to insufficient margin.\n",
      "  warnings.warn(\n",
      "d:\\Proyectos\\SPP4backtesting\\env\\Lib\\site-packages\\backtesting\\backtesting.py:954: UserWarning: time=1413: Broker canceled the relative-sized order due to insufficient margin.\n",
      "  warnings.warn(\n",
      "d:\\Proyectos\\SPP4backtesting\\env\\Lib\\site-packages\\backtesting\\backtesting.py:954: UserWarning: time=1650: Broker canceled the relative-sized order due to insufficient margin.\n",
      "  warnings.warn(\n",
      "d:\\Proyectos\\SPP4backtesting\\env\\Lib\\site-packages\\backtesting\\backtesting.py:954: UserWarning: time=1948: Broker canceled the relative-sized order due to insufficient margin.\n",
      "  warnings.warn(\n",
      "d:\\Proyectos\\SPP4backtesting\\env\\Lib\\site-packages\\backtesting\\backtesting.py:954: UserWarning: time=2050: Broker canceled the relative-sized order due to insufficient margin.\n",
      "  warnings.warn(\n",
      "d:\\Proyectos\\SPP4backtesting\\env\\Lib\\site-packages\\backtesting\\backtesting.py:954: UserWarning: time=2054: Broker canceled the relative-sized order due to insufficient margin.\n",
      "  warnings.warn(\n",
      "d:\\Proyectos\\SPP4backtesting\\env\\Lib\\site-packages\\backtesting\\backtesting.py:954: UserWarning: time=2058: Broker canceled the relative-sized order due to insufficient margin.\n",
      "  warnings.warn(\n",
      "d:\\Proyectos\\SPP4backtesting\\env\\Lib\\site-packages\\backtesting\\backtesting.py:954: UserWarning: time=2175: Broker canceled the relative-sized order due to insufficient margin.\n",
      "  warnings.warn(\n",
      "d:\\Proyectos\\SPP4backtesting\\env\\Lib\\site-packages\\backtesting\\backtesting.py:954: UserWarning: time=2182: Broker canceled the relative-sized order due to insufficient margin.\n",
      "  warnings.warn(\n",
      "d:\\Proyectos\\SPP4backtesting\\env\\Lib\\site-packages\\backtesting\\backtesting.py:954: UserWarning: time=2331: Broker canceled the relative-sized order due to insufficient margin.\n",
      "  warnings.warn(\n",
      "d:\\Proyectos\\SPP4backtesting\\env\\Lib\\site-packages\\backtesting\\backtesting.py:954: UserWarning: time=2376: Broker canceled the relative-sized order due to insufficient margin.\n",
      "  warnings.warn(\n",
      "d:\\Proyectos\\SPP4backtesting\\env\\Lib\\site-packages\\backtesting\\backtesting.py:954: UserWarning: time=2390: Broker canceled the relative-sized order due to insufficient margin.\n",
      "  warnings.warn(\n",
      "d:\\Proyectos\\SPP4backtesting\\env\\Lib\\site-packages\\backtesting\\backtesting.py:954: UserWarning: time=2434: Broker canceled the relative-sized order due to insufficient margin.\n",
      "  warnings.warn(\n",
      "d:\\Proyectos\\SPP4backtesting\\env\\Lib\\site-packages\\backtesting\\backtesting.py:954: UserWarning: time=2904: Broker canceled the relative-sized order due to insufficient margin.\n",
      "  warnings.warn(\n",
      "d:\\Proyectos\\SPP4backtesting\\env\\Lib\\site-packages\\backtesting\\backtesting.py:954: UserWarning: time=3204: Broker canceled the relative-sized order due to insufficient margin.\n",
      "  warnings.warn(\n",
      "d:\\Proyectos\\SPP4backtesting\\env\\Lib\\site-packages\\backtesting\\backtesting.py:954: UserWarning: time=3353: Broker canceled the relative-sized order due to insufficient margin.\n",
      "  warnings.warn(\n",
      "d:\\Proyectos\\SPP4backtesting\\env\\Lib\\site-packages\\backtesting\\backtesting.py:954: UserWarning: time=3356: Broker canceled the relative-sized order due to insufficient margin.\n",
      "  warnings.warn(\n",
      "d:\\Proyectos\\SPP4backtesting\\env\\Lib\\site-packages\\backtesting\\backtesting.py:954: UserWarning: time=3547: Broker canceled the relative-sized order due to insufficient margin.\n",
      "  warnings.warn(\n",
      "d:\\Proyectos\\SPP4backtesting\\env\\Lib\\site-packages\\backtesting\\backtesting.py:954: UserWarning: time=3551: Broker canceled the relative-sized order due to insufficient margin.\n",
      "  warnings.warn(\n",
      "d:\\Proyectos\\SPP4backtesting\\env\\Lib\\site-packages\\backtesting\\backtesting.py:954: UserWarning: time=3652: Broker canceled the relative-sized order due to insufficient margin.\n",
      "  warnings.warn(\n",
      "d:\\Proyectos\\SPP4backtesting\\env\\Lib\\site-packages\\backtesting\\backtesting.py:954: UserWarning: time=3774: Broker canceled the relative-sized order due to insufficient margin.\n",
      "  warnings.warn(\n",
      "d:\\Proyectos\\SPP4backtesting\\env\\Lib\\site-packages\\backtesting\\backtesting.py:954: UserWarning: time=3885: Broker canceled the relative-sized order due to insufficient margin.\n",
      "  warnings.warn(\n",
      "d:\\Proyectos\\SPP4backtesting\\env\\Lib\\site-packages\\backtesting\\backtesting.py:954: UserWarning: time=3889: Broker canceled the relative-sized order due to insufficient margin.\n",
      "  warnings.warn(\n",
      "d:\\Proyectos\\SPP4backtesting\\env\\Lib\\site-packages\\backtesting\\backtesting.py:954: UserWarning: time=3895: Broker canceled the relative-sized order due to insufficient margin.\n",
      "  warnings.warn(\n",
      "d:\\Proyectos\\SPP4backtesting\\env\\Lib\\site-packages\\backtesting\\backtesting.py:954: UserWarning: time=3957: Broker canceled the relative-sized order due to insufficient margin.\n",
      "  warnings.warn(\n",
      "d:\\Proyectos\\SPP4backtesting\\env\\Lib\\site-packages\\backtesting\\backtesting.py:954: UserWarning: time=4048: Broker canceled the relative-sized order due to insufficient margin.\n",
      "  warnings.warn(\n",
      "d:\\Proyectos\\SPP4backtesting\\env\\Lib\\site-packages\\backtesting\\backtesting.py:954: UserWarning: time=4054: Broker canceled the relative-sized order due to insufficient margin.\n",
      "  warnings.warn(\n",
      "d:\\Proyectos\\SPP4backtesting\\env\\Lib\\site-packages\\backtesting\\backtesting.py:954: UserWarning: time=4058: Broker canceled the relative-sized order due to insufficient margin.\n",
      "  warnings.warn(\n",
      "d:\\Proyectos\\SPP4backtesting\\env\\Lib\\site-packages\\backtesting\\backtesting.py:954: UserWarning: time=4668: Broker canceled the relative-sized order due to insufficient margin.\n",
      "  warnings.warn(\n",
      "d:\\Proyectos\\SPP4backtesting\\env\\Lib\\site-packages\\backtesting\\backtesting.py:954: UserWarning: time=4670: Broker canceled the relative-sized order due to insufficient margin.\n",
      "  warnings.warn(\n",
      "d:\\Proyectos\\SPP4backtesting\\env\\Lib\\site-packages\\backtesting\\backtesting.py:954: UserWarning: time=4865: Broker canceled the relative-sized order due to insufficient margin.\n",
      "  warnings.warn(\n",
      "d:\\Proyectos\\SPP4backtesting\\env\\Lib\\site-packages\\backtesting\\backtesting.py:954: UserWarning: time=4875: Broker canceled the relative-sized order due to insufficient margin.\n",
      "  warnings.warn(\n",
      "d:\\Proyectos\\SPP4backtesting\\env\\Lib\\site-packages\\backtesting\\backtesting.py:954: UserWarning: time=4989: Broker canceled the relative-sized order due to insufficient margin.\n",
      "  warnings.warn(\n",
      "d:\\Proyectos\\SPP4backtesting\\env\\Lib\\site-packages\\backtesting\\backtesting.py:954: UserWarning: time=5471: Broker canceled the relative-sized order due to insufficient margin.\n",
      "  warnings.warn(\n",
      "d:\\Proyectos\\SPP4backtesting\\env\\Lib\\site-packages\\backtesting\\backtesting.py:954: UserWarning: time=5686: Broker canceled the relative-sized order due to insufficient margin.\n",
      "  warnings.warn(\n",
      "d:\\Proyectos\\SPP4backtesting\\env\\Lib\\site-packages\\backtesting\\backtesting.py:954: UserWarning: time=5780: Broker canceled the relative-sized order due to insufficient margin.\n",
      "  warnings.warn(\n",
      "d:\\Proyectos\\SPP4backtesting\\env\\Lib\\site-packages\\backtesting\\backtesting.py:954: UserWarning: time=5783: Broker canceled the relative-sized order due to insufficient margin.\n",
      "  warnings.warn(\n",
      "d:\\Proyectos\\SPP4backtesting\\env\\Lib\\site-packages\\backtesting\\backtesting.py:954: UserWarning: time=5787: Broker canceled the relative-sized order due to insufficient margin.\n",
      "  warnings.warn(\n",
      "d:\\Proyectos\\SPP4backtesting\\env\\Lib\\site-packages\\backtesting\\backtesting.py:954: UserWarning: time=5989: Broker canceled the relative-sized order due to insufficient margin.\n",
      "  warnings.warn(\n",
      "d:\\Proyectos\\SPP4backtesting\\env\\Lib\\site-packages\\backtesting\\backtesting.py:954: UserWarning: time=6302: Broker canceled the relative-sized order due to insufficient margin.\n",
      "  warnings.warn(\n",
      "d:\\Proyectos\\SPP4backtesting\\env\\Lib\\site-packages\\backtesting\\backtesting.py:954: UserWarning: time=6305: Broker canceled the relative-sized order due to insufficient margin.\n",
      "  warnings.warn(\n",
      "d:\\Proyectos\\SPP4backtesting\\env\\Lib\\site-packages\\backtesting\\backtesting.py:954: UserWarning: time=6477: Broker canceled the relative-sized order due to insufficient margin.\n",
      "  warnings.warn(\n",
      "d:\\Proyectos\\SPP4backtesting\\env\\Lib\\site-packages\\backtesting\\backtesting.py:954: UserWarning: time=6484: Broker canceled the relative-sized order due to insufficient margin.\n",
      "  warnings.warn(\n",
      "d:\\Proyectos\\SPP4backtesting\\env\\Lib\\site-packages\\backtesting\\backtesting.py:954: UserWarning: time=6487: Broker canceled the relative-sized order due to insufficient margin.\n",
      "  warnings.warn(\n",
      "d:\\Proyectos\\SPP4backtesting\\env\\Lib\\site-packages\\backtesting\\backtesting.py:954: UserWarning: time=6525: Broker canceled the relative-sized order due to insufficient margin.\n",
      "  warnings.warn(\n",
      "d:\\Proyectos\\SPP4backtesting\\env\\Lib\\site-packages\\backtesting\\backtesting.py:954: UserWarning: time=6678: Broker canceled the relative-sized order due to insufficient margin.\n",
      "  warnings.warn(\n",
      "d:\\Proyectos\\SPP4backtesting\\env\\Lib\\site-packages\\backtesting\\backtesting.py:954: UserWarning: time=6821: Broker canceled the relative-sized order due to insufficient margin.\n",
      "  warnings.warn(\n",
      "d:\\Proyectos\\SPP4backtesting\\env\\Lib\\site-packages\\backtesting\\backtesting.py:954: UserWarning: time=6827: Broker canceled the relative-sized order due to insufficient margin.\n",
      "  warnings.warn(\n",
      "d:\\Proyectos\\SPP4backtesting\\env\\Lib\\site-packages\\backtesting\\backtesting.py:954: UserWarning: time=6830: Broker canceled the relative-sized order due to insufficient margin.\n",
      "  warnings.warn(\n",
      "d:\\Proyectos\\SPP4backtesting\\env\\Lib\\site-packages\\backtesting\\backtesting.py:954: UserWarning: time=6837: Broker canceled the relative-sized order due to insufficient margin.\n",
      "  warnings.warn(\n",
      "d:\\Proyectos\\SPP4backtesting\\env\\Lib\\site-packages\\backtesting\\backtesting.py:954: UserWarning: time=7304: Broker canceled the relative-sized order due to insufficient margin.\n",
      "  warnings.warn(\n",
      "d:\\Proyectos\\SPP4backtesting\\env\\Lib\\site-packages\\backtesting\\backtesting.py:954: UserWarning: time=7471: Broker canceled the relative-sized order due to insufficient margin.\n",
      "  warnings.warn(\n",
      "d:\\Proyectos\\SPP4backtesting\\env\\Lib\\site-packages\\backtesting\\backtesting.py:954: UserWarning: time=7474: Broker canceled the relative-sized order due to insufficient margin.\n",
      "  warnings.warn(\n",
      "d:\\Proyectos\\SPP4backtesting\\env\\Lib\\site-packages\\backtesting\\backtesting.py:954: UserWarning: time=7726: Broker canceled the relative-sized order due to insufficient margin.\n",
      "  warnings.warn(\n",
      "d:\\Proyectos\\SPP4backtesting\\env\\Lib\\site-packages\\backtesting\\backtesting.py:954: UserWarning: time=7744: Broker canceled the relative-sized order due to insufficient margin.\n",
      "  warnings.warn(\n",
      "d:\\Proyectos\\SPP4backtesting\\env\\Lib\\site-packages\\backtesting\\backtesting.py:954: UserWarning: time=8085: Broker canceled the relative-sized order due to insufficient margin.\n",
      "  warnings.warn(\n",
      "d:\\Proyectos\\SPP4backtesting\\env\\Lib\\site-packages\\backtesting\\backtesting.py:954: UserWarning: time=8087: Broker canceled the relative-sized order due to insufficient margin.\n",
      "  warnings.warn(\n",
      "d:\\Proyectos\\SPP4backtesting\\env\\Lib\\site-packages\\backtesting\\backtesting.py:954: UserWarning: time=8105: Broker canceled the relative-sized order due to insufficient margin.\n",
      "  warnings.warn(\n",
      "d:\\Proyectos\\SPP4backtesting\\env\\Lib\\site-packages\\bokeh\\util\\serialization.py:242: UserWarning: no explicit representation of timezones available for np.datetime64\n",
      "  return convert(array.astype(\"datetime64[us]\"))\n"
     ]
    },
    {
     "name": "stdout",
     "output_type": "stream",
     "text": [
      "Start                     1993-01-29 00:00...\n",
      "End                       2025-07-03 00:00...\n",
      "Duration                  11842 days 23:00:00\n",
      "Exposure Time [%]                         0.0\n",
      "Equity Final [$]                         10.0\n",
      "Equity Peak [$]                          10.0\n",
      "Return [%]                                0.0\n",
      "Buy & Hold Return [%]               2487.0045\n",
      "Return (Ann.) [%]                         0.0\n",
      "Volatility (Ann.) [%]                     0.0\n",
      "CAGR [%]                                  0.0\n",
      "Sharpe Ratio                              NaN\n",
      "Sortino Ratio                             NaN\n",
      "Calmar Ratio                              NaN\n",
      "Alpha [%]                                 0.0\n",
      "Beta                                      0.0\n",
      "Max. Drawdown [%]                        -0.0\n",
      "Avg. Drawdown [%]                         NaN\n",
      "Max. Drawdown Duration                    NaN\n",
      "Avg. Drawdown Duration                    NaN\n",
      "# Trades                                    0\n",
      "Win Rate [%]                              NaN\n",
      "Best Trade [%]                            NaN\n",
      "Worst Trade [%]                           NaN\n",
      "Avg. Trade [%]                            NaN\n",
      "Max. Trade Duration                       NaN\n",
      "Avg. Trade Duration                       NaN\n",
      "Profit Factor                             NaN\n",
      "Expectancy [%]                            NaN\n",
      "SQN                                       NaN\n",
      "Kelly Criterion                           NaN\n",
      "_strategy                       Rsi0scillator\n",
      "_equity_curve                             ...\n",
      "_trades                   Empty DataFrame\n",
      "...\n",
      "dtype: object\n"
     ]
    }
   ],
   "source": [
    "class Rsi0scillator(Strategy):\n",
    "    lower_band = 30\n",
    "    upper_band = 70\n",
    "    rsi_window = 14\n",
    "    def init(self):\n",
    "        self.rsi = self.I(talib.RSI, self.data.Close, self.rsi_window)\n",
    "        \n",
    "    def next(self):\n",
    "        if crossover(self.rsi, self.upper_band):\n",
    "            self.position.close()\n",
    "        elif crossover(self.rsi, self.lower_band):\n",
    "            self.buy()\n",
    "bt = Backtest(spy, Rsi0scillator, cash=10, commission=.02)\n",
    "stat = bt.run()\n",
    "bt.plot()\n",
    "print(stat)\n"
   ]
  }
 ],
 "metadata": {
  "kernelspec": {
   "display_name": "env",
   "language": "python",
   "name": "python3"
  },
  "language_info": {
   "codemirror_mode": {
    "name": "ipython",
    "version": 3
   },
   "file_extension": ".py",
   "mimetype": "text/x-python",
   "name": "python",
   "nbconvert_exporter": "python",
   "pygments_lexer": "ipython3",
   "version": "3.13.3"
  }
 },
 "nbformat": 4,
 "nbformat_minor": 5
}
